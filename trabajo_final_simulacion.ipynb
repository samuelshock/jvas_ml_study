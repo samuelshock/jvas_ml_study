{
 "cells": [
  {
   "cell_type": "markdown",
   "metadata": {},
   "source": [
    "# Script para simulacion de datos\n",
    "\n",
    "Se tubo que optar por la simulacion de datos puesto que el conjunto de datos que se pensaba estudiar esta restringido y no puede ser compartido, por lo cual se realizo este script para poder generar los datos necesarios para mi estudio y trabajo final."
   ]
  },
  {
   "cell_type": "code",
   "execution_count": 3,
   "metadata": {},
   "outputs": [
    {
     "name": "stdout",
     "output_type": "stream",
     "text": [
      "   ID_Gato     Raza  Edad          Enfermedad          Tratamiento   Resultado\n",
      "0        1  Ragdoll    12  Infección urinaria  Medicación tiroidea      Mejora\n",
      "1        2    Persa    11            Diabetes         Antibióticos      Mejora\n",
      "2        3    Persa    14    Enfermedad renal   Terapia de fluidos  Sin Cambio\n",
      "3        4  Ragdoll     1            Alergias  Medicación tiroidea      Mejora\n",
      "4        5    Persa     1    Enfermedad renal             Insulina  Sin Cambio\n"
     ]
    }
   ],
   "source": [
    "import pandas as pd\n",
    "import numpy as np\n",
    "\n",
    "# Definir el número de registros\n",
    "n = 1000\n",
    "\n",
    "# Simular datos\n",
    "datos = {\n",
    "    \"ID_Gato\": range(1, n + 1),\n",
    "    \"Raza\": np.random.choice([\"Siamés\", \"Persa\", \"Bengalí\", \"Ragdoll\", \"British Shorthair\"], n),\n",
    "    \"Edad\": np.random.randint(1, 16, n),\n",
    "    \"Enfermedad\": np.random.choice(\n",
    "        [\"Infección urinaria\", \"Enfermedad renal\", \"Hipertiroidismo\", \"Diabetes\", \"Alergias\"], n\n",
    "    ),\n",
    "    \"Tratamiento\": np.random.choice(\n",
    "        [\"Antibióticos\", \"Terapia de fluidos\", \"Medicación tiroidea\", \"Insulina\", \"Antihistamínicos\"], n\n",
    "    ),\n",
    "    \"Resultado\": np.random.choice([\"Mejora\", \"Sin Cambio\", \"Deterioro\"], n, p=[0.5, 0.3, 0.2])\n",
    "}\n",
    "\n",
    "# Crear DataFrame\n",
    "df = pd.DataFrame(datos)\n",
    "\n",
    "# Mostrar las primeras filas del DataFrame\n",
    "print(df.head())\n",
    "# Guardar el dataframe en un archivo CSV\n",
    "df.to_csv('./diseases_and_treatments_cats.csv')"
   ]
  },
  {
   "cell_type": "code",
   "execution_count": 4,
   "metadata": {},
   "outputs": [
    {
     "name": "stdout",
     "output_type": "stream",
     "text": [
      "   ID_Gato               Raza  Edad          Enfermedad Historial_Clinico  \\\n",
      "0        1             Siamés     9     Hipertiroidismo           Ninguno   \n",
      "1        2  British Shorthair     3            Alergias           Ninguno   \n",
      "2        3  British Shorthair    13     Hipertiroidismo              Leve   \n",
      "3        4             Siamés     7            Alergias          Moderado   \n",
      "4        5             Siamés     4  Infección urinaria            Severo   \n",
      "\n",
      "  Sintomas Condicion_Salud Estilo_Vida         Tratamiento   Resultado  \n",
      "0     Leve       Ocasional    Exterior        Antibióticos   Deterioro  \n",
      "1     Leve       Ocasional    Interior  Terapia de fluidos      Mejora  \n",
      "2   Severo         Crónica    Interior    Antihistamínicos   Deterioro  \n",
      "3   Severo       Ocasional    Exterior    Antihistamínicos  Sin Cambio  \n",
      "4   Severo         Crónica    Interior  Terapia de fluidos      Mejora  \n"
     ]
    }
   ],
   "source": [
    "import pandas as pd\n",
    "import numpy as np\n",
    "\n",
    "# Definir el número de registros\n",
    "n = 1000\n",
    "\n",
    "# Simular datos\n",
    "datos = {\n",
    "    \"ID_Gato\": range(1, n + 1),\n",
    "    \"Raza\": np.random.choice([\"Siamés\", \"Persa\", \"Bengalí\", \"Ragdoll\", \"British Shorthair\"], n),\n",
    "    \"Edad\": np.random.randint(1, 16, n),\n",
    "    \"Enfermedad\": np.random.choice(\n",
    "        [\"Infección urinaria\", \"Enfermedad renal\", \"Hipertiroidismo\", \"Diabetes\", \"Alergias\"], n\n",
    "    ),\n",
    "    \"Historial_Clinico\": np.random.choice([\"Ninguno\", \"Leve\", \"Moderado\", \"Severo\"], n),\n",
    "    \"Sintomas\": np.random.choice([\"Ninguno\", \"Leve\", \"Moderado\", \"Severo\"], n),\n",
    "    \"Condicion_Salud\": np.random.choice([\"Ninguna\", \"Crónica\", \"Ocasional\"], n),\n",
    "    \"Estilo_Vida\": np.random.choice([\"Interior\", \"Exterior\"], n),\n",
    "    \"Tratamiento\": np.random.choice(\n",
    "        [\"Antibióticos\", \"Terapia de fluidos\", \"Medicación tiroidea\", \"Insulina\", \"Antihistamínicos\"], n\n",
    "    ),\n",
    "    \"Resultado\": np.random.choice([\"Mejora\", \"Sin Cambio\", \"Deterioro\"], n, p=[0.5, 0.3, 0.2])\n",
    "}\n",
    "\n",
    "# Crear DataFrame\n",
    "df = pd.DataFrame(datos)\n",
    "\n",
    "# Mostrar las primeras filas del DataFrame\n",
    "print(df.head())\n",
    "# Guardar el dataframe en un archivo CSV\n",
    "df.to_csv('./diseases_and_treatments_cats2.csv')"
   ]
  }
 ],
 "metadata": {
  "kernelspec": {
   "display_name": "env",
   "language": "python",
   "name": "python3"
  },
  "language_info": {
   "codemirror_mode": {
    "name": "ipython",
    "version": 3
   },
   "file_extension": ".py",
   "mimetype": "text/x-python",
   "name": "python",
   "nbconvert_exporter": "python",
   "pygments_lexer": "ipython3",
   "version": "3.11.3"
  }
 },
 "nbformat": 4,
 "nbformat_minor": 2
}
